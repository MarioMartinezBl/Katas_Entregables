{
 "cells": [
  {
   "cell_type": "markdown",
   "metadata": {},
   "source": [
    "# Transformar cadenas\n",
    "Hay varias operaciones que puedes realizar en las cadenas cuando las manipulamos. En este ejercicio, usarás métodos de cadena para modificar el texto con hechos sobre la Luna y luego extraerás información para crear un breve resumen.\n",
    "\n",
    "    \n",
    "\n",
    "🔰El texto con el que trabajarás es el siguiente:\n"
   ]
  },
  {
   "cell_type": "markdown",
   "metadata": {},
   "source": [
    "        text = \"\"\"Interesting facts about the Moon. The Moon is Earth's only satellite. There are several interesting facts about the Moon and how it affects life here on Earth. \n",
    "        On average, the Moon moves 4cm away from the Earth every year. This yearly drift is not significant enough to cause immediate effects on Earth. The highest daylight temperature of the Moon is 127 C.\"\"\"\n",
    " Primero, divide el texto en cada oración para trabajar con su contenido:"
   ]
  },
  {
   "cell_type": "code",
   "execution_count": 8,
   "metadata": {},
   "outputs": [
    {
     "name": "stdout",
     "output_type": "stream",
     "text": [
      "Interesting facts about the Moon:\n",
      " The Moon is Earth's only satellite.\n",
      " There are several interesting facts about the Moon and how it affects life here on Earth.\n",
      " On average, the Moon moves 4cm away from the Earth every year.\n",
      " This yearly drift is not significant enough to cause immediate effects on Earth.\n",
      " The highest daylight temperature of the Moon is 127 C.\n"
     ]
    }
   ],
   "source": [
    "multiline = \"Interesting facts about the Moon:\\n The Moon is Earth's only satellite.\\n There are several interesting facts about the Moon and how it affects life here on Earth.\\n On average, the Moon moves 4cm away from the Earth every year.\\n This yearly drift is not significant enough to cause immediate effects on Earth.\\n The highest daylight temperature of the Moon is 127 C.\"\n",
    "print (multiline)\n",
    " \n"
   ]
  },
  {
   "cell_type": "markdown",
   "metadata": {},
   "source": [
    "##### **Ahora, define algunas palabras clave para búsqueda que te ayudarán a determinar si una oración contiene un hecho.**\n",
    " Define las palabras pista: 'average', 'temperature' y 'distance' suenan bien"
   ]
  },
  {
   "cell_type": "code",
   "execution_count": 23,
   "metadata": {},
   "outputs": [
    {
     "data": {
      "text/plain": [
       "True"
      ]
     },
     "execution_count": 23,
     "metadata": {},
     "output_type": "execute_result"
    }
   ],
   "source": [
    "'average' in 'On average, the Moon moves 4cm away from the Earth every year'"
   ]
  },
  {
   "cell_type": "code",
   "execution_count": 24,
   "metadata": {},
   "outputs": [
    {
     "data": {
      "text/plain": [
       "True"
      ]
     },
     "execution_count": 24,
     "metadata": {},
     "output_type": "execute_result"
    }
   ],
   "source": [
    "'temperature' in 'The highest daylight temperature of the Moon is 127 C'"
   ]
  },
  {
   "cell_type": "code",
   "execution_count": 26,
   "metadata": {},
   "outputs": [
    {
     "data": {
      "text/plain": [
       "False"
      ]
     },
     "execution_count": 26,
     "metadata": {},
     "output_type": "execute_result"
    }
   ],
   "source": [
    "'distance' in '''The Moon is Earth's only satellite'''"
   ]
  },
  {
   "cell_type": "code",
   "execution_count": 27,
   "metadata": {},
   "outputs": [
    {
     "data": {
      "text/plain": [
       "False"
      ]
     },
     "execution_count": 27,
     "metadata": {},
     "output_type": "execute_result"
    }
   ],
   "source": [
    "'distance' in 'There are several interesting facts about the Moon and how it affects life here on Earth'"
   ]
  },
  {
   "cell_type": "code",
   "execution_count": 28,
   "metadata": {},
   "outputs": [
    {
     "data": {
      "text/plain": [
       "False"
      ]
     },
     "execution_count": 28,
     "metadata": {},
     "output_type": "execute_result"
    }
   ],
   "source": [
    "'distance' in 'On average, the Moon moves 4cm away from the Earth every year'"
   ]
  },
  {
   "cell_type": "code",
   "execution_count": 7,
   "metadata": {},
   "outputs": [
    {
     "data": {
      "text/plain": [
       "False"
      ]
     },
     "execution_count": 7,
     "metadata": {},
     "output_type": "execute_result"
    }
   ],
   "source": [
    "'distance' in 'On average, the Moon moves 4 cm away from the Earth every year'"
   ]
  },
  {
   "cell_type": "code",
   "execution_count": 6,
   "metadata": {},
   "outputs": [
    {
     "data": {
      "text/plain": [
       "False"
      ]
     },
     "execution_count": 6,
     "metadata": {},
     "output_type": "execute_result"
    }
   ],
   "source": [
    "'distance' in 'This yearly drift is not significant enough to cause immediate effects on Earth. The highest daylight temperature of the Moon is 127 C'"
   ]
  },
  {
   "cell_type": "markdown",
   "metadata": {},
   "source": [
    "#### **Crea un bucle para imprimir solo datos sobre la Luna que estén relacionados con las palabras clave definidas anteriormente:**"
   ]
  },
  {
   "cell_type": "code",
   "execution_count": 14,
   "metadata": {},
   "outputs": [
    {
     "name": "stdout",
     "output_type": "stream",
     "text": [
      "\n",
      "On average, the Moon moves 4cm away from the Earth every year\n",
      "The highest daylight temperature of the Moon is 127 C.\n"
     ]
    }
   ],
   "source": [
    "text = \"\"\"Interesting facts about the Moon. The Moon is Earth's only satellite. There are several interesting facts about the Moon and how it affects life here on Earth. \n",
    "On average, the Moon moves 4cm away from the Earth every year. This yearly drift is not significant enough to cause immediate effects on Earth. The highest daylight temperature of the Moon is 127 C.\"\"\"\n",
    "\n",
    "frases = text.split(\". \")\n",
    "\n",
    "claves = [\"average\", \"temperature\", \"distance\"] \n",
    "\n",
    "for txt in frases:\n",
    "    for key in claves:\n",
    "        if key in txt:\n",
    "            print(txt)"
   ]
  },
  {
   "cell_type": "markdown",
   "metadata": {},
   "source": [
    "### **Finalmente, actualiza el bucle (ciclo) para cambiar *C* a *Celsius***:\n"
   ]
  },
  {
   "cell_type": "code",
   "execution_count": 18,
   "metadata": {},
   "outputs": [
    {
     "name": "stdout",
     "output_type": "stream",
     "text": [
      "\n",
      "On average, the Moon moves 4cm away from the Earth every year\n",
      "The highest daylight temperature of the Moon is 127 Celsius.\n"
     ]
    }
   ],
   "source": [
    "for txt in frases:\n",
    " for key in claves: \n",
    "     if key in txt: print(txt.replace(' C', ' Celsius'))"
   ]
  },
  {
   "cell_type": "markdown",
   "metadata": {},
   "source": [
    "# **Formateando cadenas**"
   ]
  },
  {
   "cell_type": "markdown",
   "metadata": {},
   "source": [
    "### Saber cómo dar formato a las cadenas es esencial cuando se presenta información de un programa. Hay algunas maneras diferentes de lograr esto en Python. En este ejercicio, se utilizan variables que contienen datos clave sobre la gravedad en varias lunas y luego se utilizan para dar formato e imprimir la información.\n",
    "\n",
    "### El formato tiene que acomodar información sobre otras lunas, por lo que debe ser genérico.\n",
    "\n",
    "### En lugar de reemplazar las variables en una cadena larga como parte de un párrafo, utiliza la información para presentarla en un formato tabular. El resultado debería verse así:\n",
    "\n",
    "        Gravity Facts about Ganymede\n",
    "        ------------------------------------------------------------\n",
    "        Planet Name: Mars\n",
    "        Gravity on Ganymede: 1.4300000000000002 m/s^2"
   ]
  },
  {
   "cell_type": "markdown",
   "metadata": {},
   "source": [
    "# **Datos con los que vas a trabajar**\n",
    "    name = \"Moon\"\n",
    "    gravity = 0.00162 # in kms\n",
    "    planet = \"Earth\""
   ]
  },
  {
   "cell_type": "markdown",
   "metadata": {},
   "source": [
    "#### Primero, crea un título para el texto. Debido a que este texto trata sobre la gravedad en la Tierra y la Luna, úsalo para crear un título significativo. Utiliza las variables en lugar de escribir."
   ]
  },
  {
   "cell_type": "code",
   "execution_count": 4,
   "metadata": {},
   "outputs": [
    {
     "name": "stdout",
     "output_type": "stream",
     "text": [
      "Gravity of the 'Moon' and 'Earth'\n"
     ]
    }
   ],
   "source": [
    "name = \"'Moon'\"\n",
    "gravity = \"0.00162\"\n",
    "planet = \"'Earth'\"\n",
    "\n",
    "titulo =f'Gravity of the {name} and {planet}'\n",
    "print(titulo)"
   ]
  },
  {
   "cell_type": "markdown",
   "metadata": {},
   "source": [
    "#### Ahora crea una plantilla de cadena multilínea para contener el resto de la información. En lugar de usar kilómetros, debes convertir la distancia a metros multiplicando por 1,000."
   ]
  },
  {
   "cell_type": "code",
   "execution_count": 7,
   "metadata": {},
   "outputs": [
    {
     "name": "stdout",
     "output_type": "stream",
     "text": [
      "Gravity on the Moon and Earth\n",
      "\n",
      "--------------------------------------------------------------------------------------  \n",
      "Planet Name: Earth\n",
      "Gravity on Moon: 1.6 m/s\t \n",
      "\n",
      "Gravity On The Moon And Earth\n",
      "--------------------------------------------------------------------------------------  \n",
      "Planet Name: Earth\n",
      "Gravity on Moon: 1.6 m/s\t \n",
      "\n"
     ]
    }
   ],
   "source": [
    "name = \"Moon\"\n",
    "gravity = 0.00162 # --> Multiplicar por 1000\n",
    "planet = \"Earth\"\n",
    "\n",
    "titulo = f'Gravity on the {name} and {planet}'\n",
    "\n",
    "print(titulo)\n",
    "\n",
    "tabla = f\"\"\"\n",
    "--------------------------------------------------------------------------------------  \n",
    "Planet Name: {planet}\n",
    "Gravity on {name}: {round(gravity*1000,1)} m/s^2\t \n",
    "\"\"\"\n",
    "print(tabla)\n",
    "\n",
    "template = titulo.title() + tabla\n",
    "print(template)\n",
    "\n",
    "\n"
   ]
  },
  {
   "cell_type": "markdown",
   "metadata": {},
   "source": [
    "#### Ahora usa información de una luna diferente para ver si la plantilla todavía funciona.\n",
    "\n",
    "    Datos muestra:\n",
    "\n",
    "    planeta = 'Marte '\n",
    "    gravedad  = 0.00143\n",
    "    nombre = 'Ganímedes'\n",
    "\n"
   ]
  },
  {
   "cell_type": "code",
   "execution_count": 12,
   "metadata": {},
   "outputs": [
    {
     "name": "stdout",
     "output_type": "stream",
     "text": [
      "Gravity on Ganímedes \n",
      "-------------------------------------------------------------------------------------\n",
      "Name of the planet: Marte \n",
      "Gravity of Marte : 3.72\n",
      "\n"
     ]
    }
   ],
   "source": [
    "planet = 'Marte '\n",
    "gravity = 0.003721 #gravity  = 0.00143 ---> el dato debería ser 3.721 m/s^2\n",
    "name = 'Ganímedes'\n",
    "\n",
    "plantilla2 = \"\"\"Gravity on {nom} \n",
    "-------------------------------------------------------------------------------------\n",
    "Name of the planet: {plan}\n",
    "Gravity of {plan}: {grav}\n",
    "\"\"\"\n",
    "\n",
    "print(plantilla2.format(nom=name, plan=planet, grav=round(gravity*1000,2)))"
   ]
  }
 ],
 "metadata": {
  "interpreter": {
   "hash": "d852074cd492bad93834d70e84ce445e7455291a4278253607ab8f6dbaa69cbe"
  },
  "kernelspec": {
   "display_name": "Python 3.10.0 64-bit",
   "language": "python",
   "name": "python3"
  },
  "language_info": {
   "codemirror_mode": {
    "name": "ipython",
    "version": 3
   },
   "file_extension": ".py",
   "mimetype": "text/x-python",
   "name": "python",
   "nbconvert_exporter": "python",
   "pygments_lexer": "ipython3",
   "version": "3.9.6"
  },
  "orig_nbformat": 4
 },
 "nbformat": 4,
 "nbformat_minor": 2
}
