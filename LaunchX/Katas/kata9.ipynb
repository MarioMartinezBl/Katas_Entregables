{
 "cells": [
  {
   "cell_type": "markdown",
   "metadata": {},
   "source": [
    "# Uso de funciones en Python\n",
    "## Ejercicio 1: Trabajar con argumentos en funciones\n",
    "### Los argumentos requeridos en las funciones se utilizan cuando las funciones necesitan que esos argumentos funcionen correctamente. En este ejercicio, construirás un informe de combustible que requiere información de varias ubicaciones de combustible en todo el cohete.\n",
    "### Comienza por crear una función que necesite tres lecturas de combustible y devuelva un informe:"
   ]
  },
  {
   "cell_type": "code",
   "execution_count": 32,
   "metadata": {},
   "outputs": [],
   "source": [
    "def informe(tanque1, tanque2, tanque3):               #informe de combustible\n",
    "    prom = (tanque1 + tanque2 + tanque3) / 3          #promedio de combustible\n",
    "    return f\"\"\"Fuel Report:                           \n",
    "    Total Average: {prom}%                            \n",
    "    Main tank: {tanque1}%\n",
    "    External tank: {tanque2}%\n",
    "    Hydrogen tank: {tanque3}% \n",
    "    \"\"\""
   ]
  },
  {
   "cell_type": "code",
   "execution_count": 27,
   "metadata": {},
   "outputs": [
    {
     "name": "stdout",
     "output_type": "stream",
     "text": [
      "Fuel Report:                           \n",
      "    Total Average: 81.66666666666667%                            \n",
      "    Main tank: 85%\n",
      "    External tank: 70%\n",
      "    Hydrogen tank: 90% \n",
      "    \n"
     ]
    }
   ],
   "source": [
    "#Ahora que hemos definido la función de informes, vamos a comprobarlo. Para esta misión, los tanques no están llenos:\n",
    "print (informe(85, 70, 90))"
   ]
  },
  {
   "cell_type": "code",
   "execution_count": 33,
   "metadata": {},
   "outputs": [
    {
     "name": "stdout",
     "output_type": "stream",
     "text": [
      "81.66666666666667\n"
     ]
    }
   ],
   "source": [
    "#En lugar de simplemente crear el informe, la función también está calculando el promedio. Mejora la legibilidad extrayendo el cálculo promedio de la función en una nueva función para que el promedio se pueda hacer de forma independiente:\n",
    "def promedio(tanque1, tanque2, tanque3):\n",
    "    prom = (tanque1 + tanque2 + tanque3) / 3\n",
    "    return prom\n",
    "\n",
    "print (promedio(85, 70, 90))"
   ]
  },
  {
   "cell_type": "markdown",
   "metadata": {},
   "source": [
    "## Trabajar con argumentos de palabras clave en funciones\n",
    "### Ejercicio : Trabajar con argumentos de palabras clave en funciones\n",
    "#### En este ejercicio, construirás un informe de cohete que requiere varias piezas de información, como el tiempo hasta el destino, el combustible a la izquierda y el nombre del destino. Comienza por crear una función que creará un informe preciso de la misión:"
   ]
  },
  {
   "cell_type": "code",
   "execution_count": 38,
   "metadata": {},
   "outputs": [
    {
     "name": "stdout",
     "output_type": "stream",
     "text": [
      "Full Report:\n",
      "    Hora de salida: 1450hrs\n",
      "    Tiempo de viaje: 64min                                                     \n",
      "    Tiempo hasta el destino: 93min\n",
      "    Combustible externo: 60%\n",
      "    Combustible interno: 72% \n",
      "    \n"
     ]
    }
   ],
   "source": [
    "def informe(pre_launch, time_travel, destiny, ext_tank, int_tank,):\n",
    "    return f\"\"\"Full Report:\n",
    "    Hora de salida: {pre_launch}hrs\n",
    "    Tiempo de viaje: {time_travel}min                                                     \n",
    "    Tiempo hasta el destino: {destiny}min\n",
    "    Combustible externo: {ext_tank}%\n",
    "    Combustible interno: {int_tank}% \n",
    "    \"\"\"\n",
    "\n",
    "print(informe(1450, 64, 93, 60, 72))"
   ]
  },
  {
   "cell_type": "markdown",
   "metadata": {},
   "source": [
    "#### La función es problemática porque no se puede adaptar para minutos adicionales o tanques adicionales de combustible. Hazlo más flexible permitiendo cualquier número de pasos basados en el tiempo y cualquier número de tanques. En lugar de usar *args y **kwargs, aprovecha el hecho de que puedes usar cualquier nombre que desees. Asegurate que la función sea más legible mediante el uso de nombres de variables que están asociados con las entradas, como *minutes y **fuel_reservoirs:"
   ]
  },
  {
   "cell_type": "code",
   "execution_count": 54,
   "metadata": {},
   "outputs": [
    {
     "name": "stdout",
     "output_type": "stream",
     "text": [
      "Full Report:\n",
      "    Hora de salida: 1450hrs\n",
      "    Tiempo de viaje: 64min                                                     \n",
      "    Tiempo hasta el destino: 93min\n",
      "    Tiempo de llegada: -29min\n",
      "    Combustible externo: 293303 galones de combuistible\n",
      "    Combustible interno: 595490 galones de oxígeno\n",
      "    Destino: La Luna\n",
      "    Combustible total: 888793 galones de combustible restante\n",
      "    \n"
     ]
    }
   ],
   "source": [
    "def informe(pre_launch, time_travel, destiny, ext_tank, int_tank,final_dest):\n",
    "    return f\"\"\"Full Report:\n",
    "    Hora de salida: {pre_launch}hrs\n",
    "    Tiempo de viaje: {time_travel}min                                                     \n",
    "    Tiempo hasta el destino: {destiny}min\n",
    "    Tiempo de llegada: {time_travel - destiny}min\n",
    "    Combustible externo: {ext_tank} galones de combuistible\n",
    "    Combustible interno: {int_tank} galones de oxígeno\n",
    "    Destino: {final_dest}\n",
    "    Combustible total: {ext_tank + int_tank} galones de combustible restante\n",
    "    \"\"\"\n",
    "\n",
    "print(informe(1450, 64, 93, 293303, 595490, \"La Luna\"))"
   ]
  }
 ],
 "metadata": {
  "interpreter": {
   "hash": "1d1961f880fec64e110a2634d97b12f561cf9a002496e791777f3b256c591f90"
  },
  "kernelspec": {
   "display_name": "Python 3.9.6 64-bit",
   "language": "python",
   "name": "python3"
  },
  "language_info": {
   "name": "python",
   "version": "3.9.6"
  },
  "orig_nbformat": 4
 },
 "nbformat": 4,
 "nbformat_minor": 2
}
